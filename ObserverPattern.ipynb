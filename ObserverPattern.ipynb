{
 "cells": [
  {
   "cell_type": "markdown",
   "metadata": {},
   "source": [
    "Weather Monitoring Display\n",
    "\n",
    "![Initial Requirement](./Images/ObserverPattern/WeatherMonitoring_1.jpg \"Initial Requirement\")\n",
    "\n",
    "![WeatherData Object](./Images/ObserverPattern/WeatherMonitoring_2.jpg \"Weather Data Object\")"
   ]
  },
  {
   "cell_type": "code",
   "execution_count": 4,
   "metadata": {
    "dotnet_interactive": {
     "language": "csharp"
    },
    "polyglot_notebook": {
     "kernelName": "csharp"
    },
    "vscode": {
     "languageId": "polyglot-notebook"
    }
   },
   "outputs": [],
   "source": [
    "// Initial Implementation of Weather Data\n",
    "\n",
    "public class WeatherData\n",
    "{\n",
    "    // instance variable declaration\n",
    "\n",
    "    public float GetTemperature () \n",
    "    {\n",
    "        return default(float);\n",
    "    }\n",
    "\n",
    "    public float GetHumidity () \n",
    "    {\n",
    "        return default(float);\n",
    "    }\n",
    "\n",
    "    public float GetPressure () \n",
    "    {\n",
    "        return default(float);\n",
    "    }\n",
    "\n",
    "    public void MeasurementsChanged ()\n",
    "    {\n",
    "        float temperature = GetTemperature();\n",
    "        float humidity = GetHumidity();\n",
    "        float pressure = GetPressure();\n",
    "\n",
    "        // currentConditionDisplay.update(temperature, humidity, pressure);\n",
    "        // statisticsDisplay.update(temperature, humidity, pressure);\n",
    "        // forecastDisplay.update(temperature, humidity, pressure);\n",
    "    }\n",
    "}"
   ]
  },
  {
   "cell_type": "markdown",
   "metadata": {},
   "source": [
    "*Problems:*\n",
    "> - By coding to concrete implementations, i.e. currentConditionDisplay, statisticsDisplay and forecastDisplay, we have no way to add or remove other display elements without making changes to the code.\n",
    "> \n",
    "> - The code part where update method is called on different displays seems to be changing. So, we need to encapsulate it."
   ]
  },
  {
   "cell_type": "markdown",
   "metadata": {},
   "source": [
    "The **Observer Pattern** defines a one-to-many dependency between objects so that when one object changes state, all of its dependents are notified and updated automatically.\n",
    "\n",
    "- One *Subject* notifies many *Observers* when something in the subject changes.\n",
    "- The Observers are dependent on the Subject - when the subject's state changes, the observers are notified.\n",
    "\n",
    "![Observer Pattern Class Diagram](./Images/ObserverPattern/WeatherMonitoring_3.jpg \"Observer Pattern Class Diagram\")"
   ]
  },
  {
   "cell_type": "markdown",
   "metadata": {},
   "source": [
    "**Desing Principle** *Strive for loosely coupled desings between objects that interact.*\n",
    "\n",
    "- When two objects are loosely coupled, they can interact, but they have very little knowledge of each other.\n",
    "\n",
    "In Observer pattern context:\n",
    "- The only thing the subject knows about an observer is that it implements a certain interface (the Observer interface).\n",
    "- We can add new observers at any time (or even remove it).\n",
    "- We never need to modify the subject to add new types of observers.\n",
    "- We can reuse subjects or observers independently of each other.\n",
    "- Changes to either the subject or an observer will not affect the others.\n",
    "\n",
    "\n",
    "***Loosely coupled desings allow us to build felxible OO systems that can handle change because they minimize the interdependency between the objects.***"
   ]
  },
  {
   "cell_type": "markdown",
   "metadata": {},
   "source": [
    "Why Observer pattern for Weather Application?\n",
    "\n",
    "- Observer pattern has one-to-many relationship between the subject and the observers.\n",
    "\n",
    "- We have WeatherData object which holds state, i.e., temperature, humidity and pressure. Whenever the state changes, the WeatherData object needs to send the data.\n",
    "\n",
    "- The data being sent by WeatherData object will be used by the display elements, i.e., current conditions, weather statistics and forecast.\n",
    "\n",
    "- So we can say, WeatherData object is the Subject and our display elements are the Observers.\n",
    "\n",
    "- The Observers, i.e., the display elements, implements a common Observer interface and utilize its update method to update the display when they are notfied by the Subject, i.e., WeatherData object about state change.\n",
    "\n",
    "\n",
    "![Weather Station Desing](./Images/ObserverPattern/WeatherMonitoring_4.jpg \"Weather Station Desing\")"
   ]
  },
  {
   "cell_type": "markdown",
   "metadata": {},
   "source": [
    "# Code Implementation"
   ]
  },
  {
   "cell_type": "code",
   "execution_count": 1,
   "metadata": {
    "dotnet_interactive": {
     "language": "csharp"
    },
    "polyglot_notebook": {
     "kernelName": "csharp"
    },
    "vscode": {
     "languageId": "polyglot-notebook"
    }
   },
   "outputs": [],
   "source": [
    "public interface IObserver\n",
    "{\n",
    "    public void Update();\n",
    "}\n",
    "\n",
    "public interface IDisplayElement\n",
    "{\n",
    "    public void Display();\n",
    "}\n",
    "\n",
    "public interface ISubject\n",
    "{\n",
    "    public void RegisterObserver(IObserver observer);\n",
    "    public void RemoveObserver(IObserver observer);\n",
    "    public void NotifyObserver();\n",
    "}"
   ]
  },
  {
   "cell_type": "code",
   "execution_count": 2,
   "metadata": {
    "dotnet_interactive": {
     "language": "csharp"
    },
    "polyglot_notebook": {
     "kernelName": "csharp"
    },
    "vscode": {
     "languageId": "polyglot-notebook"
    }
   },
   "outputs": [],
   "source": [
    "public class WeatherData : ISubject\n",
    "{\n",
    "    private List<IObserver> _observers;\n",
    "    private float _temperature;\n",
    "    private float _humidity;\n",
    "    private float _pressure;\n",
    "\n",
    "    public WeatherData()\n",
    "    {\n",
    "        _observers = new List<IObserver>();\n",
    "    }\n",
    "\n",
    "    public float Temperature\n",
    "    {\n",
    "        get { return _temperature; }\n",
    "    }\n",
    "\n",
    "    public float Humidity\n",
    "    {\n",
    "        get { return _humidity; }\n",
    "    }\n",
    "\n",
    "    public float Pressure\n",
    "    {\n",
    "        get { return _pressure; }\n",
    "    }\n",
    "\n",
    "    public void RegisterObserver(IObserver observer)\n",
    "    {\n",
    "        _observers.Add(observer);\n",
    "    }\n",
    "\n",
    "    public void RemoveObserver(IObserver observer)\n",
    "    {\n",
    "        _observers.Remove(observer);\n",
    "    }\n",
    "\n",
    "    public void NotifyObserver()\n",
    "    {\n",
    "        foreach (IObserver observer in _observers)\n",
    "        {\n",
    "            observer.Update();\n",
    "        }\n",
    "    }\n",
    "\n",
    "    public void MeasurementsChanged()\n",
    "    {\n",
    "        NotifyObserver();\n",
    "    }\n",
    "\n",
    "    // Actually, we will be gettig data from client written API or some web portal\n",
    "    public void SetMeasurements(float temperature, float humidity, float pressure)\n",
    "    {\n",
    "        _temperature = temperature;\n",
    "        _humidity = humidity;\n",
    "        _pressure = pressure;\n",
    "\n",
    "        MeasurementsChanged();\n",
    "    }\n",
    "}"
   ]
  },
  {
   "cell_type": "code",
   "execution_count": 3,
   "metadata": {
    "dotnet_interactive": {
     "language": "csharp"
    },
    "polyglot_notebook": {
     "kernelName": "csharp"
    },
    "vscode": {
     "languageId": "polyglot-notebook"
    }
   },
   "outputs": [],
   "source": [
    "public class CurrentConditionsDisplay : IObserver, IDisplayElement\n",
    "{\n",
    "    private float _temperature;\n",
    "    private float _humidity;\n",
    "    private WeatherData _weatherData;\n",
    "\n",
    "    public CurrentConditionsDisplay(WeatherData weatherData)\n",
    "    {\n",
    "        _weatherData = weatherData;\n",
    "        _weatherData.RegisterObserver(this);\n",
    "    }\n",
    "\n",
    "    public void Update()\n",
    "    {\n",
    "        _temperature = _weatherData.Temperature;\n",
    "        _humidity = _weatherData.Humidity;\n",
    "\n",
    "        Display();\n",
    "    }\n",
    "\n",
    "    public void Display()\n",
    "    {\n",
    "        Console.WriteLine($\"Current Conditions: {_temperature} F degrees and {_humidity} % humidity\");\n",
    "    }\n",
    "}"
   ]
  },
  {
   "cell_type": "code",
   "execution_count": 4,
   "metadata": {
    "dotnet_interactive": {
     "language": "csharp"
    },
    "polyglot_notebook": {
     "kernelName": "csharp"
    },
    "vscode": {
     "languageId": "polyglot-notebook"
    }
   },
   "outputs": [
    {
     "name": "stdout",
     "output_type": "stream",
     "text": [
      "Current Conditions: 80 F degrees and 65 % humidity\n",
      "Current Conditions: 82 F degrees and 70 % humidity\n",
      "Current Conditions: 78 F degrees and 90 % humidity\n"
     ]
    }
   ],
   "source": [
    "WeatherData weatherData = new WeatherData();\n",
    "\n",
    "CurrentConditionsDisplay currentConditions = new CurrentConditionsDisplay(weatherData);\n",
    "\n",
    "weatherData.SetMeasurements(80, 65, 30.4f);\n",
    "weatherData.SetMeasurements(82, 70, 29.2f);\n",
    "weatherData.SetMeasurements(78, 90, 29.2f);"
   ]
  },
  {
   "cell_type": "code",
   "execution_count": 5,
   "metadata": {
    "dotnet_interactive": {
     "language": "csharp"
    },
    "polyglot_notebook": {
     "kernelName": "csharp"
    },
    "vscode": {
     "languageId": "polyglot-notebook"
    }
   },
   "outputs": [],
   "source": [
    "public class ForecastDisplay : IObserver, IDisplayElement\n",
    "{\n",
    "    private float _currentPressure = 29.92f;\n",
    "    private float _lastPressure;\n",
    "    private WeatherData _weatherData;\n",
    "    \n",
    "    public ForecastDisplay(WeatherData weatherData)\n",
    "    {\n",
    "        _weatherData = weatherData;\n",
    "        _weatherData.RegisterObserver(this);\n",
    "    }\n",
    "\n",
    "    public void Update()\n",
    "    {\n",
    "        _lastPressure = _currentPressure;\n",
    "        _currentPressure = _weatherData.Pressure;\n",
    "\n",
    "        Display();\n",
    "    }\n",
    "\n",
    "    public void Display()\n",
    "    {\n",
    "        Console.WriteLine($\"Forecast: {_lastPressure} Last Pressure and {_currentPressure} Current Pressure\");\n",
    "    }\n",
    "}"
   ]
  },
  {
   "cell_type": "code",
   "execution_count": 6,
   "metadata": {
    "dotnet_interactive": {
     "language": "csharp"
    },
    "polyglot_notebook": {
     "kernelName": "csharp"
    },
    "vscode": {
     "languageId": "polyglot-notebook"
    }
   },
   "outputs": [
    {
     "name": "stdout",
     "output_type": "stream",
     "text": [
      "Current Conditions: 80 F degrees and 65 % humidity\n",
      "Forecast: 29.92 Last Pressure and 30.4 Current Pressure\n",
      "Current Conditions: 82 F degrees and 70 % humidity\n",
      "Forecast: 30.4 Last Pressure and 29.2 Current Pressure\n",
      "Current Conditions: 78 F degrees and 90 % humidity\n",
      "Forecast: 29.2 Last Pressure and 29.2 Current Pressure\n"
     ]
    }
   ],
   "source": [
    "WeatherData weatherData = new WeatherData();\n",
    "\n",
    "CurrentConditionsDisplay currentConditions = new CurrentConditionsDisplay(weatherData);\n",
    "ForecastDisplay forecast = new ForecastDisplay(weatherData);\n",
    "\n",
    "weatherData.SetMeasurements(80, 65, 30.4f);\n",
    "weatherData.SetMeasurements(82, 70, 29.2f);\n",
    "weatherData.SetMeasurements(78, 90, 29.2f);"
   ]
  },
  {
   "cell_type": "code",
   "execution_count": null,
   "metadata": {
    "dotnet_interactive": {
     "language": "csharp"
    },
    "polyglot_notebook": {
     "kernelName": "csharp"
    },
    "vscode": {
     "languageId": "polyglot-notebook"
    }
   },
   "outputs": [],
   "source": []
  }
 ],
 "metadata": {
  "language_info": {
   "name": "python"
  },
  "orig_nbformat": 4
 },
 "nbformat": 4,
 "nbformat_minor": 2
}
