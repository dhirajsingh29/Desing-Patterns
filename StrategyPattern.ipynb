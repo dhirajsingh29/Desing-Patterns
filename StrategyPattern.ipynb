{
 "cells": [
  {
   "cell_type": "markdown",
   "metadata": {},
   "source": [
    "Initial DuckSimulator Setup\n",
    "\n",
    "![Initial DuckSimulator Setup](./Images/StrategyPattern/DuckSimulator_1.jpg \"Initial DuckSimulator Setup\")\n",
    "\n",
    "*New feature:* Introduce fly feature.\n",
    "\n",
    "*Change:* Add fly method to Duck class.\n",
    "\n",
    "![Duck with fly feature](./Images/StrategyPattern/DuckSimulator_2.jpg \"Duck with fly feature\")\n",
    "\n",
    "*Problems*: \n",
    "> - Fly feature is fine for Mallard Duck and RedHead Duck. But, rubber duck cannot fly. \n",
    "> - Also, with the introduction of rubber duck quack method needs to be overridden as Rubber ducks do not Quack but Squeak. \n",
    "\n",
    "*Solution 1*: We can override the fly behavior in the classes.\n",
    "\n",
    "*Problems*:\n",
    "> - Overriding fly method in one rubber duck class is fine. But, in future when new type of duck is introduced, say, Wooden decoy duck. Similarly, more ducks can be introduced which cannot fly.\n",
    "> - Apart from fly behavior, quack behavior also needs to be overriden for Wooden decoy duck, as wooden duck doesn't make sound.\n",
    "> ![Wooden Decoy Duck](./Images/StrategyPattern/DuckSimulator_3.jpg \"Wooden Decoy Duck\")\n",
    "\n",
    "*Solution 2*: We can introduce Flyable behavior as interface. The classes which require fly behavior can implement Flyable interface.\n",
    "\n",
    "*Problems*:\n",
    "> - With any change in the flyable behavior, we will have to make modifications in all the classes implementing Flyable interface. This breaks code reuse and will lead to maintenance nightmare. "
   ]
  },
  {
   "cell_type": "markdown",
   "metadata": {},
   "source": [
    "Overview of issues:\n",
    "> - Inheritance is not good solution, as behavior keeps changing across subclasses. And each behavior might not be suitable for all subclasses.\n",
    "> - Intorducing interface too is not viable solution, as it hinders code reuse. "
   ]
  },
  {
   "cell_type": "markdown",
   "metadata": {},
   "source": [
    "**Design Principle**\n",
    "*Identify the aspects of your application that vary and separate them from what stays the same.*\n",
    "> - If we have got some aspect of our code that is changing, say with every new requirement, then we know we have got a behavior that needs to be pulled out and separated from all the stuff that doesn't change.\n",
    "> - Take the part that vary and encapsulate them, so that later we can alter or extend the parts that vary without affecting those that don't."
   ]
  },
  {
   "cell_type": "markdown",
   "metadata": {},
   "source": [
    "Applying above design principle.\n",
    "- Other than the problems with fly() and quack() methods, Duck class is working fine. Hence, we will leave other parts as is.\n",
    "- \"To separate what varies from what stays the same\", we will introduce two **sets of classes** (totally apart from Duck), one for fly and one for quack.\n",
    "- Each set of classes will hold all the implementatios of the respective behavior.\n",
    "- E.g., we can have three classs, one for *quacking*, another for *squeaking* and another for *silence*. All these are set of classes as all represent way of speaking by Duck."
   ]
  },
  {
   "cell_type": "markdown",
   "metadata": {},
   "source": [
    "**Design Principle**\n",
    "*Program to an interface, not an implementation*\n",
    "> - It will help us change behavior at runtime.\n",
    "> - We can add / remove any behavior without modifying existing one. "
   ]
  },
  {
   "cell_type": "markdown",
   "metadata": {},
   "source": [
    "Applying above desing principle.\n",
    "- We will introduce two behavior interfaces, FlyBehavior and QuackBehavior.\n",
    "- Duck class will use these and will have no knowledge of concrete implementation of behaviors."
   ]
  },
  {
   "cell_type": "markdown",
   "metadata": {},
   "source": [
    "Combining both the desing principles.\n",
    "\n",
    "![Set of Behaviors for Duck Class](./Images/StrategyPattern/DuckSimulator_4.jpg \"Set of Behaviors for Duck Class\")\n"
   ]
  },
  {
   "cell_type": "markdown",
   "metadata": {},
   "source": [
    "Integrating all the principles and Duck classes.\n",
    "- Duck class will now *delegate* its flying and quacking behavior.\n",
    "- fly() and quack() method will be replaced with helper methods performFly() and performQuack().\n",
    "\n",
    "![Revised Duck Class](./Images/StrategyPattern/DuckSimulator_5.jpg \"Revised Duck Class\")"
   ]
  },
  {
   "cell_type": "markdown",
   "metadata": {},
   "source": [
    "**Design Principle**\n",
    "*Favor composition over inheritance*\n",
    "> - Instead of inheriting behavior (is-a relationship), we opt for composition (has-a relationship).\n",
    "> - This helps in delagating the task to correct behavior, rather than implementing the behavior on its own."
   ]
  },
  {
   "cell_type": "markdown",
   "metadata": {},
   "source": [
    "# Code Implementation"
   ]
  },
  {
   "cell_type": "code",
   "execution_count": 8,
   "metadata": {
    "dotnet_interactive": {
     "language": "csharp"
    },
    "polyglot_notebook": {
     "kernelName": "csharp"
    }
   },
   "outputs": [],
   "source": [
    "public interface IFlyBehavior\n",
    "{\n",
    "    void Fly();\n",
    "}\n",
    "\n",
    "public interface IQuackBehavior\n",
    "{\n",
    "    void Quack();\n",
    "}"
   ]
  },
  {
   "cell_type": "code",
   "execution_count": 9,
   "metadata": {
    "dotnet_interactive": {
     "language": "csharp"
    },
    "polyglot_notebook": {
     "kernelName": "csharp"
    }
   },
   "outputs": [],
   "source": [
    "public class FlyWithWings : IFlyBehavior\n",
    "{\n",
    "    public void Fly() \n",
    "    {\n",
    "        System.Console.WriteLine(\"I am flying!!\");\n",
    "    }\n",
    "}\n",
    "\n",
    "public class FlyNoWay : IFlyBehavior\n",
    "{\n",
    "    public void Fly() \n",
    "    {\n",
    "        System.Console.WriteLine(\"I cannot fly!\");\n",
    "    }\n",
    "}"
   ]
  },
  {
   "cell_type": "code",
   "execution_count": 10,
   "metadata": {
    "dotnet_interactive": {
     "language": "csharp"
    },
    "polyglot_notebook": {
     "kernelName": "csharp"
    }
   },
   "outputs": [],
   "source": [
    "public class DuckQuack : IQuackBehavior\n",
    "{\n",
    "    public void Quack()\n",
    "    {\n",
    "        System.Console.WriteLine(\"Quack\");\n",
    "    }\n",
    "}\n",
    "\n",
    "public class Squeak : IQuackBehavior\n",
    "{\n",
    "    public void Quack()\n",
    "    {\n",
    "        System.Console.WriteLine(\"Squeak\");\n",
    "    }\n",
    "}\n",
    "\n",
    "public class Silence : IQuackBehavior\n",
    "{\n",
    "    public void Quack()\n",
    "    {\n",
    "        System.Console.WriteLine(\"<Silence>\");\n",
    "    }\n",
    "}"
   ]
  },
  {
   "cell_type": "code",
   "execution_count": 11,
   "metadata": {
    "dotnet_interactive": {
     "language": "csharp"
    },
    "polyglot_notebook": {
     "kernelName": "csharp"
    }
   },
   "outputs": [],
   "source": [
    "public abstract class Duck\n",
    "{\n",
    "    IFlyBehavior _flyBehavior;\n",
    "    IQuackBehavior _quackBehavior;\n",
    "\n",
    "    public IFlyBehavior FlyBehavior\n",
    "    {\n",
    "        get { return _flyBehavior; }\n",
    "        set { _flyBehavior = value; }\n",
    "    }\n",
    "\n",
    "    public IQuackBehavior QuackBehavior\n",
    "    {\n",
    "        get { return _quackBehavior; }\n",
    "        set { _quackBehavior = value; }\n",
    "    }\n",
    "\n",
    "    public abstract void Display();\n",
    "\n",
    "    public void PerformFly()\n",
    "    {\n",
    "        _flyBehavior.Fly();\n",
    "    }\n",
    "\n",
    "    public void PerformQuack()\n",
    "    {\n",
    "        _quackBehavior.Quack();\n",
    "    }\n",
    "\n",
    "    public void Swim()\n",
    "    {\n",
    "        System.Console.WriteLine(\"All ducks swim,including decoys\");\n",
    "    }\n",
    "}"
   ]
  },
  {
   "cell_type": "code",
   "execution_count": 12,
   "metadata": {
    "dotnet_interactive": {
     "language": "csharp"
    },
    "polyglot_notebook": {
     "kernelName": "csharp"
    }
   },
   "outputs": [],
   "source": [
    "public class MallardDuck : Duck\n",
    "{\n",
    "    public MallardDuck()\n",
    "    {\n",
    "        FlyBehavior = new FlyWithWings();\n",
    "        QuackBehavior = new DuckQuack();\n",
    "    }\n",
    "\n",
    "    public override void Display()\n",
    "    {\n",
    "        System.Console.WriteLine(\"Real Mallard Duck\");\n",
    "    }\n",
    "}"
   ]
  },
  {
   "cell_type": "code",
   "execution_count": 13,
   "metadata": {
    "dotnet_interactive": {
     "language": "csharp"
    },
    "polyglot_notebook": {
     "kernelName": "csharp"
    }
   },
   "outputs": [
    {
     "name": "stdout",
     "output_type": "stream",
     "text": [
      "I am flying!!\n",
      "Quack\n"
     ]
    }
   ],
   "source": [
    "Duck mallard = new MallardDuck();\n",
    "mallard.PerformFly();\n",
    "mallard.PerformQuack();"
   ]
  },
  {
   "cell_type": "code",
   "execution_count": 14,
   "metadata": {
    "dotnet_interactive": {
     "language": "csharp"
    },
    "polyglot_notebook": {
     "kernelName": "csharp"
    }
   },
   "outputs": [],
   "source": [
    "public class Model : Duck\n",
    "{\n",
    "    public Model()\n",
    "    {\n",
    "        FlyBehavior = new FlyNoWay();\n",
    "        QuackBehavior = new DuckQuack();\n",
    "    }\n",
    "\n",
    "    public override void Display() \n",
    "    {\n",
    "        System.Console.WriteLine(\"I am a model duck\");\n",
    "    }\n",
    "}"
   ]
  },
  {
   "cell_type": "code",
   "execution_count": 15,
   "metadata": {
    "dotnet_interactive": {
     "language": "csharp"
    },
    "polyglot_notebook": {
     "kernelName": "csharp"
    }
   },
   "outputs": [],
   "source": [
    "public class FlyRocketPowered : IFlyBehavior\n",
    "{\n",
    "    public void Fly()\n",
    "    {\n",
    "        System.Console.WriteLine(\"I am flying with a rocket\");\n",
    "    }\n",
    "}"
   ]
  },
  {
   "cell_type": "code",
   "execution_count": 16,
   "metadata": {
    "dotnet_interactive": {
     "language": "csharp"
    },
    "polyglot_notebook": {
     "kernelName": "csharp"
    }
   },
   "outputs": [
    {
     "name": "stdout",
     "output_type": "stream",
     "text": [
      "I cannot fly!\n",
      "Quack\n",
      "I am flying with a rocket\n"
     ]
    }
   ],
   "source": [
    "Duck modelDuck = new Model();\n",
    "\n",
    "modelDuck.PerformFly();\n",
    "modelDuck.PerformQuack();\n",
    "\n",
    "modelDuck.FlyBehavior = new FlyRocketPowered();\n",
    "modelDuck.PerformFly();"
   ]
  },
  {
   "cell_type": "markdown",
   "metadata": {},
   "source": [
    "- Instead of thinkig of the Duck behaviors as a *set of behaviors*, we will start thinking of them as *family of algorithms*.\n",
    "- The algorithm represent things a Duck would do. "
   ]
  },
  {
   "cell_type": "markdown",
   "metadata": {},
   "source": [
    "The **Strategy Pattern** defines a family of algorithms, encapsulates each one, and makes them interchangeable. Strategy lets the algorithm vary independently from clients that use it."
   ]
  }
 ],
 "metadata": {
  "kernelspec": {
   "display_name": ".NET (C#)",
   "language": "C#",
   "name": ".net-csharp"
  },
  "language_info": {
   "name": "polyglot-notebook"
  },
  "polyglot_notebook": {
   "kernelInfo": {
    "defaultKernelName": "csharp",
    "items": [
     {
      "aliases": [],
      "languageName": "csharp",
      "name": "csharp"
     }
    ]
   }
  }
 },
 "nbformat": 4,
 "nbformat_minor": 2
}
